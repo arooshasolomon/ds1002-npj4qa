{
  "nbformat": 4,
  "nbformat_minor": 0,
  "metadata": {
    "colab": {
      "provenance": [],
      "include_colab_link": true
    },
    "kernelspec": {
      "name": "python3",
      "display_name": "Python 3"
    },
    "language_info": {
      "name": "python"
    }
  },
  "cells": [
    {
      "cell_type": "markdown",
      "metadata": {
        "id": "view-in-github",
        "colab_type": "text"
      },
      "source": [
        "<a href=\"https://colab.research.google.com/github/arooshasolomon/ds1002-npj4qa/blob/main/homework/week-9.ipynb\" target=\"_parent\"><img src=\"https://colab.research.google.com/assets/colab-badge.svg\" alt=\"Open In Colab\"/></a>"
      ]
    },
    {
      "cell_type": "markdown",
      "source": [
        "# Homework - Week 9\n",
        "\n",
        "Complete the following blocks as specified in the directions. Run each cell to return the desired output. Save your notebook back to your GitHub repository and submit the GitHub URL to your notebook for review."
      ],
      "metadata": {
        "id": "phbaQTT5gy8A"
      }
    },
    {
      "cell_type": "markdown",
      "source": [
        "## Functions\n",
        "\n",
        "In the cell below define a function that takes one parameter (in the form of a list) called `names` and returns a simple greeting for each name, such as\n",
        "\n",
        "    \"Hello Natasha, it's so nice to meet you\"\n",
        "    \"Hello Sid, it's so nice to meet you\"\n",
        "\n",
        "Define the function and run it, and in another cell below call the function populated with a var of a list of names."
      ],
      "metadata": {
        "id": "38Pg39pMrDua"
      }
    },
    {
      "cell_type": "code",
      "source": [
        "#\n",
        "\n",
        "def greeting(names):\n",
        "  for each in names:\n",
        "    print(f\"Hello {each}, it's so nice to meet you\" )\n",
        "\n",
        "n = [\"Sally\", \"Su\", \"Natasha\", \"Sid\"]\n",
        "greeting(n)"
      ],
      "metadata": {
        "id": "kdFLCHtOg53p",
        "outputId": "a772a44f-0172-4b1a-bc2e-33fbebd7bd07",
        "colab": {
          "base_uri": "https://localhost:8080/"
        }
      },
      "execution_count": 26,
      "outputs": [
        {
          "output_type": "stream",
          "name": "stdout",
          "text": [
            "Hello Sally, it's so nice to meet you\n",
            "Hello Su, it's so nice to meet you\n",
            "Hello Natasha, it's so nice to meet you\n",
            "Hello Sid, it's so nice to meet you\n"
          ]
        }
      ]
    },
    {
      "cell_type": "code",
      "source": [
        "#\n",
        "print(n)"
      ],
      "metadata": {
        "id": "JlNPe_XUsmog",
        "outputId": "ffc396ea-f320-4082-949f-d2e5013d57d3",
        "colab": {
          "base_uri": "https://localhost:8080/"
        }
      },
      "execution_count": 27,
      "outputs": [
        {
          "output_type": "stream",
          "name": "stdout",
          "text": [
            "['Sally', 'Su', 'Natasha', 'Sid']\n"
          ]
        }
      ]
    },
    {
      "cell_type": "markdown",
      "source": [
        "Using the following list, pass it into a function you define that will evaluate the list and return a count of how many items is in it. Be creative.\n",
        "\n",
        "```\n",
        "mylist = [\"Toronto\",\"Buffalo\",\"Syracuse\",\"Albany\",\"Schenectady\",\"Brooklyn\",\"Rome\",\"Ithaca\"]\n",
        "```"
      ],
      "metadata": {
        "id": "mXqNACpkrdUZ"
      }
    },
    {
      "cell_type": "code",
      "source": [
        "#\n",
        "\n",
        "mylist = [\"Toronto\",\"Buffalo\",\"Syracuse\",\"Albany\",\"Schenectady\",\"Brooklyn\",\"Rome\",\"Ithaca\"]\n",
        "\n",
        "\n",
        "\n",
        "def counter(cities):\n",
        "  empty = 0\n",
        "  for each in cities:\n",
        "    empty += 1\n",
        "  return empty\n",
        "\n",
        "counter(mylist)\n",
        "\n",
        "\n",
        "\n",
        "\n",
        "\n",
        "\n",
        "\n"
      ],
      "metadata": {
        "id": "mvxOzRSisg0a",
        "outputId": "517813a8-f1e3-4bcf-b1f4-bd0e7e0c4c11",
        "colab": {
          "base_uri": "https://localhost:8080/"
        }
      },
      "execution_count": 43,
      "outputs": [
        {
          "output_type": "execute_result",
          "data": {
            "text/plain": [
              "3"
            ]
          },
          "metadata": {},
          "execution_count": 43
        }
      ]
    },
    {
      "cell_type": "markdown",
      "source": [
        "## Input Validation\n",
        "\n",
        "Write a function below that defines two input parameters as `bool` and returns a `bool`.\n",
        "In the cell below that, populate two variables with two different bools (True and False)\n",
        "and pass them into a call of your function."
      ],
      "metadata": {
        "id": "YU7FXSCXsFab"
      }
    },
    {
      "cell_type": "code",
      "source": [
        "def bool (x, y):\n",
        "  x = True\n",
        "  y = False\n",
        "  return (x,y)\n",
        "\n",
        "var_1 = False\n",
        "var_2 = True\n",
        "\n",
        "print(bool(var_1, var_2))\n",
        "\n"
      ],
      "metadata": {
        "id": "DGMJZjlysfHU",
        "outputId": "7f147894-b9fd-48fa-aad3-94e50d90a79c",
        "colab": {
          "base_uri": "https://localhost:8080/"
        }
      },
      "execution_count": 44,
      "outputs": [
        {
          "output_type": "stream",
          "name": "stdout",
          "text": [
            "(True, False)\n"
          ]
        }
      ]
    },
    {
      "cell_type": "markdown",
      "source": [
        "## Global Variables\n",
        "\n",
        "Define a global variable and populate it with a data type (int, str, bool, float, etc.)"
      ],
      "metadata": {
        "id": "xXZTr5fdsd5M"
      }
    },
    {
      "cell_type": "code",
      "source": [
        "var = [\"Hello\", \"world \"]"
      ],
      "metadata": {
        "id": "HN8CFLVRs6_L"
      },
      "execution_count": 95,
      "outputs": []
    },
    {
      "cell_type": "markdown",
      "source": [
        "Now create a function that prints out the global variable. Call the function and display the value of the var."
      ],
      "metadata": {
        "id": "G1Auc6l1s8F6"
      }
    },
    {
      "cell_type": "code",
      "source": [
        "data_int = 5\n",
        "\n",
        "def global_print():\n",
        "    global data_int\n",
        "    print ('my answer:', data_int)\n",
        "\n",
        "global_print()"
      ],
      "metadata": {
        "id": "Q6O0Ep_wtBWJ",
        "outputId": "ba655924-d2ec-4127-97a1-1150baf518f9",
        "colab": {
          "base_uri": "https://localhost:8080/"
        }
      },
      "execution_count": 83,
      "outputs": [
        {
          "output_type": "stream",
          "name": "stdout",
          "text": [
            "my answer: 5\n"
          ]
        }
      ]
    },
    {
      "cell_type": "markdown",
      "source": [
        "# Now create a function that creates its own global var and populates it.\n",
        "Call the function and then print out the global var from outside of the function."
      ],
      "metadata": {
        "id": "IN2TRQI8tCC4"
      }
    },
    {
      "cell_type": "code",
      "source": [
        "def global_print2():\n",
        "    global my_global_var\n",
        "    my_global_var = \"test\"\n",
        "\n",
        "global_print2()\n",
        "\n",
        "print(\"my answer:\", my_global_var)"
      ],
      "metadata": {
        "id": "Oz4rnmfTtKen",
        "outputId": "df7fe3c4-9070-423f-db53-f94b378787e3",
        "colab": {
          "base_uri": "https://localhost:8080/"
        }
      },
      "execution_count": 84,
      "outputs": [
        {
          "output_type": "stream",
          "name": "stdout",
          "text": [
            "my answer: test\n"
          ]
        }
      ]
    },
    {
      "cell_type": "markdown",
      "source": [
        "Finally, write a function that updates the value of the global var you defined 3 cells above.\n",
        "\n",
        "1. Within the function, print out the global var you defined 3 cells above.\n",
        "2. Update the global var to have a new value.\n",
        "3. Within the function, print the new value of the global var.\n",
        "\n",
        "Call the function and once more print out the value of the global var from outside of the function."
      ],
      "metadata": {
        "id": "jv0dtym0tLZn"
      }
    },
    {
      "cell_type": "code",
      "source": [
        "def update_var():\n",
        "  global var\n",
        "  print(var)\n",
        "  var = ['Buns']\n",
        "  print(var)\n",
        "\n",
        "update_var()\n",
        "\n",
        "print(var)"
      ],
      "metadata": {
        "id": "pnX-hfKouLcG",
        "outputId": "fbcc0220-32fa-4938-e329-3846774afee9",
        "colab": {
          "base_uri": "https://localhost:8080/"
        }
      },
      "execution_count": 96,
      "outputs": [
        {
          "output_type": "stream",
          "name": "stdout",
          "text": [
            "['Hello', 'world ']\n",
            "['Buns']\n",
            "['Buns']\n"
          ]
        }
      ]
    }
  ]
}