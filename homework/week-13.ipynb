{
  "nbformat": 4,
  "nbformat_minor": 0,
  "metadata": {
    "colab": {
      "provenance": [],
      "include_colab_link": true
    },
    "kernelspec": {
      "name": "ir",
      "display_name": "R"
    },
    "language_info": {
      "name": "R"
    }
  },
  "cells": [
    {
      "cell_type": "markdown",
      "metadata": {
        "id": "view-in-github",
        "colab_type": "text"
      },
      "source": [
        "<a href=\"https://colab.research.google.com/github/arooshasolomon/ds1002-npj4qa/blob/main/homework/week-13.ipynb\" target=\"_parent\"><img src=\"https://colab.research.google.com/assets/colab-badge.svg\" alt=\"Open In Colab\"/></a>"
      ]
    },
    {
      "cell_type": "markdown",
      "source": [
        "# Homework - Week 13\n",
        "\n",
        "Complete the following blocks as specified in the directions. Run each cell to return the desired output. Save your notebook back to your GitHub repository and submit the GitHub URL to your notebook for review."
      ],
      "metadata": {
        "id": "sZruw3XQogej"
      }
    },
    {
      "cell_type": "markdown",
      "source": [
        "## 1. Change Runtime to R (1 pt)\n",
        "\n",
        "Change the runtime of this notebook to R. You can verify that you are running R by displaying the current version you are running. Run the cell below and show the output."
      ],
      "metadata": {
        "id": "KmpG99aAokL9"
      }
    },
    {
      "cell_type": "code",
      "execution_count": 1,
      "metadata": {
        "id": "k03Z1NKAoZrW",
        "outputId": "3d8219df-dd4c-46a9-8dcb-24713523ed28",
        "colab": {
          "base_uri": "https://localhost:8080/",
          "height": 272
        }
      },
      "outputs": [
        {
          "output_type": "display_data",
          "data": {
            "text/plain": [
              "               _                           \n",
              "platform       x86_64-pc-linux-gnu         \n",
              "arch           x86_64                      \n",
              "os             linux-gnu                   \n",
              "system         x86_64, linux-gnu           \n",
              "status                                     \n",
              "major          4                           \n",
              "minor          3.2                         \n",
              "year           2023                        \n",
              "month          10                          \n",
              "day            31                          \n",
              "svn rev        85441                       \n",
              "language       R                           \n",
              "version.string R version 4.3.2 (2023-10-31)\n",
              "nickname       Eye Holes                   "
            ]
          },
          "metadata": {}
        }
      ],
      "source": [
        "version"
      ]
    },
    {
      "cell_type": "markdown",
      "source": [
        "## 2. Create Vectors (2 pts)\n",
        "\n",
        "Create two vectors in the cells below, according to the prompts given."
      ],
      "metadata": {
        "id": "lkaofBQypx1X"
      }
    },
    {
      "cell_type": "code",
      "source": [
        "# create a vector with 7 integer values. Assign it to a variable named \"my_integers\"\n",
        "\n",
        "my_integers <- c(1, 2, 3, 4, 5,6,7)\n",
        "\n",
        "my_integers"
      ],
      "metadata": {
        "id": "1fjq5bkEp6Zv",
        "outputId": "4bf51a88-9507-4e5d-b28c-db8059e98b6c",
        "colab": {
          "base_uri": "https://localhost:8080/",
          "height": 34
        }
      },
      "execution_count": 5,
      "outputs": [
        {
          "output_type": "display_data",
          "data": {
            "text/html": [
              "<style>\n",
              ".list-inline {list-style: none; margin:0; padding: 0}\n",
              ".list-inline>li {display: inline-block}\n",
              ".list-inline>li:not(:last-child)::after {content: \"\\00b7\"; padding: 0 .5ex}\n",
              "</style>\n",
              "<ol class=list-inline><li>1</li><li>2</li><li>3</li><li>4</li><li>5</li><li>6</li><li>7</li></ol>\n"
            ],
            "text/markdown": "1. 1\n2. 2\n3. 3\n4. 4\n5. 5\n6. 6\n7. 7\n\n\n",
            "text/latex": "\\begin{enumerate*}\n\\item 1\n\\item 2\n\\item 3\n\\item 4\n\\item 5\n\\item 6\n\\item 7\n\\end{enumerate*}\n",
            "text/plain": [
              "[1] 1 2 3 4 5 6 7"
            ]
          },
          "metadata": {}
        }
      ]
    },
    {
      "cell_type": "code",
      "source": [
        "var1 = 8\n",
        "var2 = 4\n",
        "var3 = 12\n",
        "var4 = 25\n",
        "\n",
        "var_1 <- var1 / var2\n",
        "var_2 <- var2^2 *var3\n",
        "var_3 <- var4/var3\n",
        "\n",
        "my_calculated_values <- c( var_1, var_2, var_3)\n",
        "\n",
        "# Using the variables given above, assign three new variables the following calculated values:\n",
        "#\n",
        "# 1. Your first variable should be assigned the calculated value of var2 divided by var1.\n",
        "# 2. Your second variable should be assigned the calculated value of var2 cubed times var3.\n",
        "# 3. Your third variable should be assigned the calculated value of var4 integer divided by var3.\n",
        "#\n",
        "# Next, create an array populated by your three variables. Assign the array to a new variable named \"my_calculated_values\""
      ],
      "metadata": {
        "id": "f3IFD-T6p6Rd"
      },
      "execution_count": 18,
      "outputs": []
    },
    {
      "cell_type": "markdown",
      "source": [
        "## 3. Vector Indexes (3 pts)"
      ],
      "metadata": {
        "id": "F6Rx0GIGrpOB"
      }
    },
    {
      "cell_type": "markdown",
      "source": [
        "In the cell below, create a vector that starts with the integer 4, that increments by counts of 3 all the way to 28.\n",
        "\n",
        "Assign the vector to a variable name."
      ],
      "metadata": {
        "id": "IDLyOjOJsFCX"
      }
    },
    {
      "cell_type": "code",
      "source": [
        "#\n",
        "s2 <- seq(from=4, to=28, by=3)\n",
        "s2"
      ],
      "metadata": {
        "id": "0D5Ia-BPsoPZ",
        "outputId": "6d264be9-9840-4c20-c725-059fa840fdd9",
        "colab": {
          "base_uri": "https://localhost:8080/",
          "height": 34
        }
      },
      "execution_count": 44,
      "outputs": [
        {
          "output_type": "display_data",
          "data": {
            "text/html": [
              "<style>\n",
              ".list-inline {list-style: none; margin:0; padding: 0}\n",
              ".list-inline>li {display: inline-block}\n",
              ".list-inline>li:not(:last-child)::after {content: \"\\00b7\"; padding: 0 .5ex}\n",
              "</style>\n",
              "<ol class=list-inline><li>4</li><li>7</li><li>10</li><li>13</li><li>16</li><li>19</li><li>22</li><li>25</li><li>28</li></ol>\n"
            ],
            "text/markdown": "1. 4\n2. 7\n3. 10\n4. 13\n5. 16\n6. 19\n7. 22\n8. 25\n9. 28\n\n\n",
            "text/latex": "\\begin{enumerate*}\n\\item 4\n\\item 7\n\\item 10\n\\item 13\n\\item 16\n\\item 19\n\\item 22\n\\item 25\n\\item 28\n\\end{enumerate*}\n",
            "text/plain": [
              "[1]  4  7 10 13 16 19 22 25 28"
            ]
          },
          "metadata": {}
        }
      ]
    },
    {
      "cell_type": "markdown",
      "source": [
        "Next, show how to display this vector with the 3 index removed."
      ],
      "metadata": {
        "id": "RxFRiRMvtfXI"
      }
    },
    {
      "cell_type": "code",
      "source": [
        "#\n",
        "s2[-3]\n"
      ],
      "metadata": {
        "id": "MBg7V1LztQlv",
        "outputId": "c368a6a4-82f6-4784-f8d3-e79f41c658e5",
        "colab": {
          "base_uri": "https://localhost:8080/",
          "height": 34
        }
      },
      "execution_count": 46,
      "outputs": [
        {
          "output_type": "display_data",
          "data": {
            "text/html": [
              "<style>\n",
              ".list-inline {list-style: none; margin:0; padding: 0}\n",
              ".list-inline>li {display: inline-block}\n",
              ".list-inline>li:not(:last-child)::after {content: \"\\00b7\"; padding: 0 .5ex}\n",
              "</style>\n",
              "<ol class=list-inline><li>4</li><li>7</li><li>13</li><li>16</li><li>19</li><li>22</li><li>25</li><li>28</li></ol>\n"
            ],
            "text/markdown": "1. 4\n2. 7\n3. 13\n4. 16\n5. 19\n6. 22\n7. 25\n8. 28\n\n\n",
            "text/latex": "\\begin{enumerate*}\n\\item 4\n\\item 7\n\\item 13\n\\item 16\n\\item 19\n\\item 22\n\\item 25\n\\item 28\n\\end{enumerate*}\n",
            "text/plain": [
              "[1]  4  7 13 16 19 22 25 28"
            ]
          },
          "metadata": {}
        }
      ]
    },
    {
      "cell_type": "markdown",
      "source": [
        "Finally, show how to delete the 4th, 5th, and 7th indexes from the vector and update the vector so they are forever removed from the vector.\n",
        "\n",
        "Hint: there is a fairly simple way to do this in one line, such that you don't have to run a separate command for each removal."
      ],
      "metadata": {
        "id": "Rmci-rVCtq-C"
      }
    },
    {
      "cell_type": "code",
      "source": [
        "#\n",
        "\n",
        "s2 <- s2[-4:-5:-7]\n",
        "s2"
      ],
      "metadata": {
        "id": "y1k0NHNruFX2",
        "outputId": "c15e8f7c-6f15-4d2c-fcb6-3a6d5cdc5e1d",
        "colab": {
          "base_uri": "https://localhost:8080/",
          "height": 68
        }
      },
      "execution_count": 47,
      "outputs": [
        {
          "output_type": "stream",
          "name": "stderr",
          "text": [
            "Warning message in -4:-5:-7:\n",
            "“numerical expression has 2 elements: only the first used”\n"
          ]
        },
        {
          "output_type": "display_data",
          "data": {
            "text/html": [
              "<style>\n",
              ".list-inline {list-style: none; margin:0; padding: 0}\n",
              ".list-inline>li {display: inline-block}\n",
              ".list-inline>li:not(:last-child)::after {content: \"\\00b7\"; padding: 0 .5ex}\n",
              "</style>\n",
              "<ol class=list-inline><li>4</li><li>7</li><li>10</li><li>25</li><li>28</li></ol>\n"
            ],
            "text/markdown": "1. 4\n2. 7\n3. 10\n4. 25\n5. 28\n\n\n",
            "text/latex": "\\begin{enumerate*}\n\\item 4\n\\item 7\n\\item 10\n\\item 25\n\\item 28\n\\end{enumerate*}\n",
            "text/plain": [
              "[1]  4  7 10 25 28"
            ]
          },
          "metadata": {}
        }
      ]
    },
    {
      "cell_type": "markdown",
      "source": [
        "## 4. Create a Data Frame (3 pts)\n",
        "\n",
        "In the cell below create a data frame with 10 observations (rows) and 5 variables (columns) each. This data frame will describe some of your favorite musical performers. You can use real or fictitious data to populate your data frame.\n",
        "\n",
        "Variables:\n",
        "  - `artist` - Artist or band name\n",
        "  - `category` - Rock, Pop, Country, Hip-hop, Jazz, Classical, Soul, Other. (Try to distribute your selections here)\n",
        "  - `size` - (number of members, 1-?)\n",
        "  - `start` - Debut year of artist.\n",
        "  - `grammy` - Grammmy winner? `TRUE` | `FALSE`\n",
        "\n",
        "First create vectors for each variable populated with your own performer data. Then create a data frame from these vectors (be sure to assign column names too) and assign it to a named variable such as `df`."
      ],
      "metadata": {
        "id": "-2ZaFcCCv3o8"
      }
    },
    {
      "cell_type": "code",
      "source": [
        "#\n",
        "artist <- c(\"Drake\", \"Rihanna\", \"Future\",\n",
        "           \"Bryson Tiller\", \"Summer Walker\", \"Brent Faiyaz\",\n",
        "           \"Don Toliver\", \"The Weeknd\", \"Morad\", \"Maes\")\n",
        "category <- c(\"Hip Hop\", \"R&b\", \"Rap\", \"Rap\", \"Rap\", \"Rap\", \"Rap\", \"Rap\", \"Rap\", \"Rap\")\n",
        "size <- c(1,1,1,1,1,1,1,1,1,1)\n",
        "start <- c(1920,1920,1920,1920,1920,1920,1920,1920,1920,1920)\n",
        "grammy <- c(FALSE, FALSE, TRUE, FALSE, TRUE, TRUE, FALSE, FALSE, FALSE, TRUE)\n",
        "\n",
        "df <- data.frame(Artist = artist, Category =category, Size = size, Start = start, Grammy= grammy)\n"
      ],
      "metadata": {
        "id": "V4nBsdVsyauQ"
      },
      "execution_count": 56,
      "outputs": []
    },
    {
      "cell_type": "markdown",
      "source": [
        "## 5. Filter/Query a Data Frame (2 pts)\n",
        "\n",
        "Use the data frame you created above and show how to perform the following queries."
      ],
      "metadata": {
        "id": "nG5m-FIRydNU"
      }
    },
    {
      "cell_type": "code",
      "source": [
        "# Display the first 3 records and only the `artist`, `category` and `grammy` columns for each.\n",
        "\n",
        "df %>%\n",
        "  head(n = 3) %>%\n",
        "  select(Artist, Category, Grammy)\n"
      ],
      "metadata": {
        "id": "OlmbfFi6zSgR",
        "outputId": "ca74a62e-973e-4b07-ca23-7f4d2f7facb7",
        "colab": {
          "base_uri": "https://localhost:8080/",
          "height": 190
        }
      },
      "execution_count": 71,
      "outputs": [
        {
          "output_type": "display_data",
          "data": {
            "text/html": [
              "<table class=\"dataframe\">\n",
              "<caption>A data.frame: 3 × 3</caption>\n",
              "<thead>\n",
              "\t<tr><th></th><th scope=col>Artist</th><th scope=col>Category</th><th scope=col>Grammy</th></tr>\n",
              "\t<tr><th></th><th scope=col>&lt;chr&gt;</th><th scope=col>&lt;chr&gt;</th><th scope=col>&lt;lgl&gt;</th></tr>\n",
              "</thead>\n",
              "<tbody>\n",
              "\t<tr><th scope=row>1</th><td>Drake  </td><td>Hip Hop</td><td>FALSE</td></tr>\n",
              "\t<tr><th scope=row>2</th><td>Rihanna</td><td><span style=white-space:pre-wrap>R&amp;b    </span></td><td>FALSE</td></tr>\n",
              "\t<tr><th scope=row>3</th><td>Future </td><td>Rap    </td><td> TRUE</td></tr>\n",
              "</tbody>\n",
              "</table>\n"
            ],
            "text/markdown": "\nA data.frame: 3 × 3\n\n| <!--/--> | Artist &lt;chr&gt; | Category &lt;chr&gt; | Grammy &lt;lgl&gt; |\n|---|---|---|---|\n| 1 | Drake   | Hip Hop | FALSE |\n| 2 | Rihanna | R&amp;b     | FALSE |\n| 3 | Future  | Rap     |  TRUE |\n\n",
            "text/latex": "A data.frame: 3 × 3\n\\begin{tabular}{r|lll}\n  & Artist & Category & Grammy\\\\\n  & <chr> & <chr> & <lgl>\\\\\n\\hline\n\t1 & Drake   & Hip Hop & FALSE\\\\\n\t2 & Rihanna & R\\&b     & FALSE\\\\\n\t3 & Future  & Rap     &  TRUE\\\\\n\\end{tabular}\n",
            "text/plain": [
              "  Artist  Category Grammy\n",
              "1 Drake   Hip Hop  FALSE \n",
              "2 Rihanna R&b      FALSE \n",
              "3 Future  Rap       TRUE "
            ]
          },
          "metadata": {}
        }
      ]
    },
    {
      "cell_type": "code",
      "source": [
        "install.packages(\"tidyverse\")\n",
        "library(tidyverse)\n",
        "%>% = piping\n"
      ],
      "metadata": {
        "id": "bfQ229GSCQy1",
        "outputId": "24e2445b-902b-4e62-e72d-37784b63a141",
        "colab": {
          "base_uri": "https://localhost:8080/",
          "height": 157
        }
      },
      "execution_count": 72,
      "outputs": [
        {
          "output_type": "error",
          "ename": "ERROR",
          "evalue": "ignored",
          "traceback": [
            "Error in parse(text = x, srcfile = src): <text>:3:1: unexpected SPECIAL\n2: library(tidyverse)\n3: %>%\n   ^\nTraceback:\n"
          ]
        }
      ]
    },
    {
      "cell_type": "code",
      "source": [
        "# Display the records for just one musical category, such as only Rock bands or only Hip-hop bands.\n",
        "\n",
        "df %>%\n",
        "filter(Category == \"Hip Hop\")\n"
      ],
      "metadata": {
        "id": "-l_kpWSzzlhG",
        "outputId": "19c60e5e-4fc0-4168-a01e-8bd0b5bc20e7",
        "colab": {
          "base_uri": "https://localhost:8080/",
          "height": 128
        }
      },
      "execution_count": 76,
      "outputs": [
        {
          "output_type": "display_data",
          "data": {
            "text/html": [
              "<table class=\"dataframe\">\n",
              "<caption>A data.frame: 1 × 5</caption>\n",
              "<thead>\n",
              "\t<tr><th scope=col>Artist</th><th scope=col>Category</th><th scope=col>Size</th><th scope=col>Start</th><th scope=col>Grammy</th></tr>\n",
              "\t<tr><th scope=col>&lt;chr&gt;</th><th scope=col>&lt;chr&gt;</th><th scope=col>&lt;dbl&gt;</th><th scope=col>&lt;dbl&gt;</th><th scope=col>&lt;lgl&gt;</th></tr>\n",
              "</thead>\n",
              "<tbody>\n",
              "\t<tr><td>Drake</td><td>Hip Hop</td><td>1</td><td>1920</td><td>FALSE</td></tr>\n",
              "</tbody>\n",
              "</table>\n"
            ],
            "text/markdown": "\nA data.frame: 1 × 5\n\n| Artist &lt;chr&gt; | Category &lt;chr&gt; | Size &lt;dbl&gt; | Start &lt;dbl&gt; | Grammy &lt;lgl&gt; |\n|---|---|---|---|---|\n| Drake | Hip Hop | 1 | 1920 | FALSE |\n\n",
            "text/latex": "A data.frame: 1 × 5\n\\begin{tabular}{lllll}\n Artist & Category & Size & Start & Grammy\\\\\n <chr> & <chr> & <dbl> & <dbl> & <lgl>\\\\\n\\hline\n\t Drake & Hip Hop & 1 & 1920 & FALSE\\\\\n\\end{tabular}\n",
            "text/plain": [
              "  Artist Category Size Start Grammy\n",
              "1 Drake  Hip Hop  1    1920  FALSE "
            ]
          },
          "metadata": {}
        }
      ]
    },
    {
      "cell_type": "markdown",
      "source": [
        "## Query a Data Frame using `tidyverse` (4 pts)\n",
        "\n",
        "1. Show how to load the library.\n",
        "2. Show how to glimpse basic features of the `starwars` data table.\n",
        "3. Create a query using tidyverse that retrieves the following data:\n",
        "    - Selects only these columns: `name`, `height`, `sex`, `species`.\n",
        "    - Filters for all species that are NOT Human.\n",
        "    - Arranges the resulting data in order by name.\n",
        "\n",
        "Show your output in a data frame."
      ],
      "metadata": {
        "id": "L-xnszjS0Byy"
      }
    },
    {
      "cell_type": "code",
      "source": [
        "#\n",
        "\n",
        "\n",
        "\n",
        "\n",
        "\n",
        "starwars %>%   # and-then\n",
        "  select(name, sex, height, species) %>%\n",
        "  filter(species !=  \"Human\") %>%\n",
        "  group_by(name)\n",
        "\n"
      ],
      "metadata": {
        "id": "yTMLzrxS0F4u",
        "outputId": "799dc259-5e43-4a29-88ef-f41cc59f0dc1",
        "colab": {
          "base_uri": "https://localhost:8080/",
          "height": 1000
        }
      },
      "execution_count": 88,
      "outputs": [
        {
          "output_type": "display_data",
          "data": {
            "text/html": [
              "<table class=\"dataframe\">\n",
              "<caption>A grouped_df: 48 × 4</caption>\n",
              "<thead>\n",
              "\t<tr><th scope=col>name</th><th scope=col>sex</th><th scope=col>height</th><th scope=col>species</th></tr>\n",
              "\t<tr><th scope=col>&lt;chr&gt;</th><th scope=col>&lt;chr&gt;</th><th scope=col>&lt;int&gt;</th><th scope=col>&lt;chr&gt;</th></tr>\n",
              "</thead>\n",
              "<tbody>\n",
              "\t<tr><td>C-3PO                </td><td>none          </td><td>167</td><td>Droid         </td></tr>\n",
              "\t<tr><td>R2-D2                </td><td>none          </td><td> 96</td><td>Droid         </td></tr>\n",
              "\t<tr><td>R5-D4                </td><td>none          </td><td> 97</td><td>Droid         </td></tr>\n",
              "\t<tr><td>Chewbacca            </td><td>male          </td><td>228</td><td>Wookiee       </td></tr>\n",
              "\t<tr><td>Greedo               </td><td>male          </td><td>173</td><td>Rodian        </td></tr>\n",
              "\t<tr><td>Jabba Desilijic Tiure</td><td>hermaphroditic</td><td>175</td><td>Hutt          </td></tr>\n",
              "\t<tr><td>Yoda                 </td><td>male          </td><td> 66</td><td>Yoda's species</td></tr>\n",
              "\t<tr><td>IG-88                </td><td>none          </td><td>200</td><td>Droid         </td></tr>\n",
              "\t<tr><td>Bossk                </td><td>male          </td><td>190</td><td>Trandoshan    </td></tr>\n",
              "\t<tr><td>Ackbar               </td><td>male          </td><td>180</td><td>Mon Calamari  </td></tr>\n",
              "\t<tr><td>Wicket Systri Warrick</td><td>male          </td><td> 88</td><td>Ewok          </td></tr>\n",
              "\t<tr><td>Nien Nunb            </td><td>male          </td><td>160</td><td>Sullustan     </td></tr>\n",
              "\t<tr><td>Nute Gunray          </td><td>male          </td><td>191</td><td>Neimodian     </td></tr>\n",
              "\t<tr><td>Jar Jar Binks        </td><td>male          </td><td>196</td><td>Gungan        </td></tr>\n",
              "\t<tr><td>Roos Tarpals         </td><td>male          </td><td>224</td><td>Gungan        </td></tr>\n",
              "\t<tr><td>Rugor Nass           </td><td>male          </td><td>206</td><td>Gungan        </td></tr>\n",
              "\t<tr><td>Watto                </td><td>male          </td><td>137</td><td>Toydarian     </td></tr>\n",
              "\t<tr><td>Sebulba              </td><td>male          </td><td>112</td><td>Dug           </td></tr>\n",
              "\t<tr><td>Darth Maul           </td><td>male          </td><td>175</td><td>Zabrak        </td></tr>\n",
              "\t<tr><td>Bib Fortuna          </td><td>male          </td><td>180</td><td>Twi'lek       </td></tr>\n",
              "\t<tr><td>Ayla Secura          </td><td>female        </td><td>178</td><td>Twi'lek       </td></tr>\n",
              "\t<tr><td>Dud Bolt             </td><td>male          </td><td> 94</td><td>Vulptereen    </td></tr>\n",
              "\t<tr><td>Gasgano              </td><td>male          </td><td>122</td><td>Xexto         </td></tr>\n",
              "\t<tr><td>Ben Quadinaros       </td><td>male          </td><td>163</td><td>Toong         </td></tr>\n",
              "\t<tr><td>Ki-Adi-Mundi         </td><td>male          </td><td>198</td><td>Cerean        </td></tr>\n",
              "\t<tr><td>Kit Fisto            </td><td>male          </td><td>196</td><td>Nautolan      </td></tr>\n",
              "\t<tr><td>Eeth Koth            </td><td>male          </td><td>171</td><td>Zabrak        </td></tr>\n",
              "\t<tr><td>Adi Gallia           </td><td>female        </td><td>184</td><td>Tholothian    </td></tr>\n",
              "\t<tr><td>Saesee Tiin          </td><td>male          </td><td>188</td><td>Iktotchi      </td></tr>\n",
              "\t<tr><td>Yarael Poof          </td><td>male          </td><td>264</td><td>Quermian      </td></tr>\n",
              "\t<tr><td>Plo Koon             </td><td>male          </td><td>188</td><td>Kel Dor       </td></tr>\n",
              "\t<tr><td>Mas Amedda           </td><td>male          </td><td>196</td><td>Chagrian      </td></tr>\n",
              "\t<tr><td>Poggle the Lesser    </td><td>male          </td><td>183</td><td>Geonosian     </td></tr>\n",
              "\t<tr><td>Luminara Unduli      </td><td>female        </td><td>170</td><td>Mirialan      </td></tr>\n",
              "\t<tr><td>Barriss Offee        </td><td>female        </td><td>166</td><td>Mirialan      </td></tr>\n",
              "\t<tr><td>Zam Wesell           </td><td>female        </td><td>168</td><td>Clawdite      </td></tr>\n",
              "\t<tr><td>Dexter Jettster      </td><td>male          </td><td>198</td><td>Besalisk      </td></tr>\n",
              "\t<tr><td>Lama Su              </td><td>male          </td><td>229</td><td>Kaminoan      </td></tr>\n",
              "\t<tr><td>Taun We              </td><td>female        </td><td>213</td><td>Kaminoan      </td></tr>\n",
              "\t<tr><td>Ratts Tyerell        </td><td>male          </td><td> 79</td><td>Aleena        </td></tr>\n",
              "\t<tr><td>R4-P17               </td><td>none          </td><td> 96</td><td>Droid         </td></tr>\n",
              "\t<tr><td>Wat Tambor           </td><td>male          </td><td>193</td><td>Skakoan       </td></tr>\n",
              "\t<tr><td>San Hill             </td><td>male          </td><td>191</td><td>Muun          </td></tr>\n",
              "\t<tr><td>Shaak Ti             </td><td>female        </td><td>178</td><td>Togruta       </td></tr>\n",
              "\t<tr><td>Grievous             </td><td>male          </td><td>216</td><td>Kaleesh       </td></tr>\n",
              "\t<tr><td>Tarfful              </td><td>male          </td><td>234</td><td>Wookiee       </td></tr>\n",
              "\t<tr><td>Tion Medon           </td><td>male          </td><td>206</td><td>Pau'an        </td></tr>\n",
              "\t<tr><td>BB8                  </td><td>none          </td><td> NA</td><td>Droid         </td></tr>\n",
              "</tbody>\n",
              "</table>\n"
            ],
            "text/markdown": "\nA grouped_df: 48 × 4\n\n| name &lt;chr&gt; | sex &lt;chr&gt; | height &lt;int&gt; | species &lt;chr&gt; |\n|---|---|---|---|\n| C-3PO                 | none           | 167 | Droid          |\n| R2-D2                 | none           |  96 | Droid          |\n| R5-D4                 | none           |  97 | Droid          |\n| Chewbacca             | male           | 228 | Wookiee        |\n| Greedo                | male           | 173 | Rodian         |\n| Jabba Desilijic Tiure | hermaphroditic | 175 | Hutt           |\n| Yoda                  | male           |  66 | Yoda's species |\n| IG-88                 | none           | 200 | Droid          |\n| Bossk                 | male           | 190 | Trandoshan     |\n| Ackbar                | male           | 180 | Mon Calamari   |\n| Wicket Systri Warrick | male           |  88 | Ewok           |\n| Nien Nunb             | male           | 160 | Sullustan      |\n| Nute Gunray           | male           | 191 | Neimodian      |\n| Jar Jar Binks         | male           | 196 | Gungan         |\n| Roos Tarpals          | male           | 224 | Gungan         |\n| Rugor Nass            | male           | 206 | Gungan         |\n| Watto                 | male           | 137 | Toydarian      |\n| Sebulba               | male           | 112 | Dug            |\n| Darth Maul            | male           | 175 | Zabrak         |\n| Bib Fortuna           | male           | 180 | Twi'lek        |\n| Ayla Secura           | female         | 178 | Twi'lek        |\n| Dud Bolt              | male           |  94 | Vulptereen     |\n| Gasgano               | male           | 122 | Xexto          |\n| Ben Quadinaros        | male           | 163 | Toong          |\n| Ki-Adi-Mundi          | male           | 198 | Cerean         |\n| Kit Fisto             | male           | 196 | Nautolan       |\n| Eeth Koth             | male           | 171 | Zabrak         |\n| Adi Gallia            | female         | 184 | Tholothian     |\n| Saesee Tiin           | male           | 188 | Iktotchi       |\n| Yarael Poof           | male           | 264 | Quermian       |\n| Plo Koon              | male           | 188 | Kel Dor        |\n| Mas Amedda            | male           | 196 | Chagrian       |\n| Poggle the Lesser     | male           | 183 | Geonosian      |\n| Luminara Unduli       | female         | 170 | Mirialan       |\n| Barriss Offee         | female         | 166 | Mirialan       |\n| Zam Wesell            | female         | 168 | Clawdite       |\n| Dexter Jettster       | male           | 198 | Besalisk       |\n| Lama Su               | male           | 229 | Kaminoan       |\n| Taun We               | female         | 213 | Kaminoan       |\n| Ratts Tyerell         | male           |  79 | Aleena         |\n| R4-P17                | none           |  96 | Droid          |\n| Wat Tambor            | male           | 193 | Skakoan        |\n| San Hill              | male           | 191 | Muun           |\n| Shaak Ti              | female         | 178 | Togruta        |\n| Grievous              | male           | 216 | Kaleesh        |\n| Tarfful               | male           | 234 | Wookiee        |\n| Tion Medon            | male           | 206 | Pau'an         |\n| BB8                   | none           |  NA | Droid          |\n\n",
            "text/latex": "A grouped\\_df: 48 × 4\n\\begin{tabular}{llll}\n name & sex & height & species\\\\\n <chr> & <chr> & <int> & <chr>\\\\\n\\hline\n\t C-3PO                 & none           & 167 & Droid         \\\\\n\t R2-D2                 & none           &  96 & Droid         \\\\\n\t R5-D4                 & none           &  97 & Droid         \\\\\n\t Chewbacca             & male           & 228 & Wookiee       \\\\\n\t Greedo                & male           & 173 & Rodian        \\\\\n\t Jabba Desilijic Tiure & hermaphroditic & 175 & Hutt          \\\\\n\t Yoda                  & male           &  66 & Yoda's species\\\\\n\t IG-88                 & none           & 200 & Droid         \\\\\n\t Bossk                 & male           & 190 & Trandoshan    \\\\\n\t Ackbar                & male           & 180 & Mon Calamari  \\\\\n\t Wicket Systri Warrick & male           &  88 & Ewok          \\\\\n\t Nien Nunb             & male           & 160 & Sullustan     \\\\\n\t Nute Gunray           & male           & 191 & Neimodian     \\\\\n\t Jar Jar Binks         & male           & 196 & Gungan        \\\\\n\t Roos Tarpals          & male           & 224 & Gungan        \\\\\n\t Rugor Nass            & male           & 206 & Gungan        \\\\\n\t Watto                 & male           & 137 & Toydarian     \\\\\n\t Sebulba               & male           & 112 & Dug           \\\\\n\t Darth Maul            & male           & 175 & Zabrak        \\\\\n\t Bib Fortuna           & male           & 180 & Twi'lek       \\\\\n\t Ayla Secura           & female         & 178 & Twi'lek       \\\\\n\t Dud Bolt              & male           &  94 & Vulptereen    \\\\\n\t Gasgano               & male           & 122 & Xexto         \\\\\n\t Ben Quadinaros        & male           & 163 & Toong         \\\\\n\t Ki-Adi-Mundi          & male           & 198 & Cerean        \\\\\n\t Kit Fisto             & male           & 196 & Nautolan      \\\\\n\t Eeth Koth             & male           & 171 & Zabrak        \\\\\n\t Adi Gallia            & female         & 184 & Tholothian    \\\\\n\t Saesee Tiin           & male           & 188 & Iktotchi      \\\\\n\t Yarael Poof           & male           & 264 & Quermian      \\\\\n\t Plo Koon              & male           & 188 & Kel Dor       \\\\\n\t Mas Amedda            & male           & 196 & Chagrian      \\\\\n\t Poggle the Lesser     & male           & 183 & Geonosian     \\\\\n\t Luminara Unduli       & female         & 170 & Mirialan      \\\\\n\t Barriss Offee         & female         & 166 & Mirialan      \\\\\n\t Zam Wesell            & female         & 168 & Clawdite      \\\\\n\t Dexter Jettster       & male           & 198 & Besalisk      \\\\\n\t Lama Su               & male           & 229 & Kaminoan      \\\\\n\t Taun We               & female         & 213 & Kaminoan      \\\\\n\t Ratts Tyerell         & male           &  79 & Aleena        \\\\\n\t R4-P17                & none           &  96 & Droid         \\\\\n\t Wat Tambor            & male           & 193 & Skakoan       \\\\\n\t San Hill              & male           & 191 & Muun          \\\\\n\t Shaak Ti              & female         & 178 & Togruta       \\\\\n\t Grievous              & male           & 216 & Kaleesh       \\\\\n\t Tarfful               & male           & 234 & Wookiee       \\\\\n\t Tion Medon            & male           & 206 & Pau'an        \\\\\n\t BB8                   & none           &  NA & Droid         \\\\\n\\end{tabular}\n",
            "text/plain": [
              "   name                  sex            height species       \n",
              "1  C-3PO                 none           167    Droid         \n",
              "2  R2-D2                 none            96    Droid         \n",
              "3  R5-D4                 none            97    Droid         \n",
              "4  Chewbacca             male           228    Wookiee       \n",
              "5  Greedo                male           173    Rodian        \n",
              "6  Jabba Desilijic Tiure hermaphroditic 175    Hutt          \n",
              "7  Yoda                  male            66    Yoda's species\n",
              "8  IG-88                 none           200    Droid         \n",
              "9  Bossk                 male           190    Trandoshan    \n",
              "10 Ackbar                male           180    Mon Calamari  \n",
              "11 Wicket Systri Warrick male            88    Ewok          \n",
              "12 Nien Nunb             male           160    Sullustan     \n",
              "13 Nute Gunray           male           191    Neimodian     \n",
              "14 Jar Jar Binks         male           196    Gungan        \n",
              "15 Roos Tarpals          male           224    Gungan        \n",
              "16 Rugor Nass            male           206    Gungan        \n",
              "17 Watto                 male           137    Toydarian     \n",
              "18 Sebulba               male           112    Dug           \n",
              "19 Darth Maul            male           175    Zabrak        \n",
              "20 Bib Fortuna           male           180    Twi'lek       \n",
              "21 Ayla Secura           female         178    Twi'lek       \n",
              "22 Dud Bolt              male            94    Vulptereen    \n",
              "23 Gasgano               male           122    Xexto         \n",
              "24 Ben Quadinaros        male           163    Toong         \n",
              "25 Ki-Adi-Mundi          male           198    Cerean        \n",
              "26 Kit Fisto             male           196    Nautolan      \n",
              "27 Eeth Koth             male           171    Zabrak        \n",
              "28 Adi Gallia            female         184    Tholothian    \n",
              "29 Saesee Tiin           male           188    Iktotchi      \n",
              "30 Yarael Poof           male           264    Quermian      \n",
              "31 Plo Koon              male           188    Kel Dor       \n",
              "32 Mas Amedda            male           196    Chagrian      \n",
              "33 Poggle the Lesser     male           183    Geonosian     \n",
              "34 Luminara Unduli       female         170    Mirialan      \n",
              "35 Barriss Offee         female         166    Mirialan      \n",
              "36 Zam Wesell            female         168    Clawdite      \n",
              "37 Dexter Jettster       male           198    Besalisk      \n",
              "38 Lama Su               male           229    Kaminoan      \n",
              "39 Taun We               female         213    Kaminoan      \n",
              "40 Ratts Tyerell         male            79    Aleena        \n",
              "41 R4-P17                none            96    Droid         \n",
              "42 Wat Tambor            male           193    Skakoan       \n",
              "43 San Hill              male           191    Muun          \n",
              "44 Shaak Ti              female         178    Togruta       \n",
              "45 Grievous              male           216    Kaleesh       \n",
              "46 Tarfful               male           234    Wookiee       \n",
              "47 Tion Medon            male           206    Pau'an        \n",
              "48 BB8                   none            NA    Droid         "
            ]
          },
          "metadata": {}
        }
      ]
    }
  ]
}