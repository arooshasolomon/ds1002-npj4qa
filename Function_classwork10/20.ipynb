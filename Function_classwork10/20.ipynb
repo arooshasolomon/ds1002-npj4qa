{
  "nbformat": 4,
  "nbformat_minor": 0,
  "metadata": {
    "colab": {
      "provenance": [],
      "authorship_tag": "ABX9TyPb1qIEBgFLo91QSrqY2F2j",
      "include_colab_link": true
    },
    "kernelspec": {
      "name": "python3",
      "display_name": "Python 3"
    },
    "language_info": {
      "name": "python"
    }
  },
  "cells": [
    {
      "cell_type": "markdown",
      "metadata": {
        "id": "view-in-github",
        "colab_type": "text"
      },
      "source": [
        "<a href=\"https://colab.research.google.com/github/arooshasolomon/ds1002-npj4qa/blob/main/Function_classwork10/20.ipynb\" target=\"_parent\"><img src=\"https://colab.research.google.com/assets/colab-badge.svg\" alt=\"Open In Colab\"/></a>"
      ]
    },
    {
      "cell_type": "code",
      "execution_count": null,
      "metadata": {
        "id": "R3nbNuIBZNKK"
      },
      "outputs": [],
      "source": [
        "x= 17\n",
        "print (x)"
      ]
    },
    {
      "cell_type": "code",
      "source": [
        "def call_x():\n",
        "  print (x)\n",
        "\n",
        "csll_x()"
      ],
      "metadata": {
        "id": "t-qECCutZR2Q"
      },
      "execution_count": null,
      "outputs": []
    },
    {
      "cell_type": "code",
      "source": [
        "def private_var():\n",
        "  xx=\"Charlotesville\"\n",
        "\n",
        "  private_var()\n",
        "  print(xx)\n",
        "\n",
        "  #private variable it doesnt exist bc it is defined in the function and called outside"
      ],
      "metadata": {
        "id": "9Jm6SJ_VZhOa"
      },
      "execution_count": 1,
      "outputs": []
    },
    {
      "cell_type": "code",
      "source": [
        "def create_a_global_var():\n",
        "  global zz\n",
        "\n",
        "\n",
        "  zz = \"top\"\n",
        "\n",
        "  create_a_global_var()\n",
        "  print(zz)"
      ],
      "metadata": {
        "id": "X6KM649DZ_uM"
      },
      "execution_count": 2,
      "outputs": []
    },
    {
      "cell_type": "code",
      "source": [
        "mm = 17\n",
        "\n",
        "def update_the_global()\n",
        "  global mm\n",
        "  mm = 14\n",
        "  print (mm)\n",
        "\n",
        "  update_the_global()\n",
        "  print (mm)"
      ],
      "metadata": {
        "id": "mecGXxQWbEB1"
      },
      "execution_count": null,
      "outputs": []
    }
  ]
}